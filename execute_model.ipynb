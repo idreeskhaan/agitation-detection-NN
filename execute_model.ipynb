{
 "cells": [
  {
   "cell_type": "code",
   "execution_count": 4,
   "metadata": {},
   "outputs": [],
   "source": [
    "import os\n",
    "os.environ['TF_CPP_MIN_LOG_LEVEL'] = '3'\n",
    "import tensorflow as tf\n",
    "import numpy as np\n",
    "import cv2\n",
    "import matplotlib.pyplot as plt"
   ]
  },
  {
   "cell_type": "code",
   "execution_count": 7,
   "metadata": {},
   "outputs": [],
   "source": [
    "auto_enc= tf.keras.models.load_model(\"batch_128_v4\") #load the autoenc\n",
    "enc= tf.keras.models.Sequential([lay for lay in auto_enc.layers[0:10]]) #make the encoder\n",
    "\n",
    "for idx, lay in enumerate(enc.layers):  #assign trained weights to enc\n",
    "    enc.layers[idx].set_weights(auto_enc.layers[idx+1].get_weights())   \n",
    "#enc.summary()"
   ]
  },
  {
   "cell_type": "code",
   "execution_count": 11,
   "metadata": {},
   "outputs": [
    {
     "name": "stderr",
     "output_type": "stream",
     "text": [
      "[ WARN:0@189.711] global /io/opencv/modules/videoio/src/cap_v4l.cpp (902) open VIDEOIO(V4L2:/dev/video0): can't open camera by index\n"
     ]
    }
   ],
   "source": [
    "def vid2array(vid_objs, start_frame, end_frame): #Takes in a list of cv2 video capture obj and returns a normalized np array of dim: (None, 64, 128, 128, 1)\n",
    "    frame_tot= 64\n",
    "    frame_width= 128\n",
    "    frame_height= 128\n",
    "    frame_channel= 1 #we consider grayscale image\n",
    "    X= np.zeros(shape=(len(vid_objs), frame_tot,frame_width,frame_height,frame_channel)) #shape of training X\n",
    "\n",
    "    for vid_no, video_item in enumerate(vid_objs):\n",
    "        count=0\n",
    "        frames_processed= 0\n",
    "        while (vid_objs[vid_no].isOpened()):\n",
    "            ret, frame= vid_objs[vid_no].read()\n",
    "            if (ret==True):\n",
    "                if (count>=start_frame and count<end_frame): \n",
    "                    resized_frame = cv2.resize(frame, (frame_height,frame_width))\n",
    "                    grayFrame = cv2.cvtColor(resized_frame, cv2.COLOR_BGR2GRAY).reshape(((frame_height,frame_width, 1)))\n",
    "                    X[vid_no, frames_processed, :, :, :]= grayFrame/255.0\n",
    "                    frames_processed=frames_processed+1\n",
    "                count=count+1\n",
    "            else:\n",
    "                break\n",
    "        vid_objs[vid_no].release() #release the capt object\n",
    "    print(\"Tot Frames Processed: \" + str(frames_processed))\n",
    "    print(\"Counter terminated at: \" + str(count))\n",
    "\n",
    "    #release All Vid objects \n",
    "    for vid in vid_objs:\n",
    "        vid.release()\n",
    "\n",
    "    return X"
   ]
  },
  {
   "cell_type": "code",
   "execution_count": 15,
   "metadata": {},
   "outputs": [
    {
     "name": "stderr",
     "output_type": "stream",
     "text": [
      "[ WARN:0@834.516] global /io/opencv/modules/videoio/src/cap_v4l.cpp (902) open VIDEOIO(V4L2:/dev/video0): can't open camera by index\n"
     ]
    }
   ],
   "source": [
    "cap= cv2.VideoCapture(0)\n",
    "\n",
    "while cap.isOpened():\n",
    "    ret, frame= cap.read()\n",
    "    if ret==True:\n",
    "        cv2.imshow(\"Live Feed\", frame)\n",
    "        if cv2.waitKey(1) == ord('q'):\n",
    "            break\n",
    "    else:\n",
    "        break\n",
    "cap.release()\n",
    "cv2.destroyAllWindows()"
   ]
  },
  {
   "cell_type": "code",
   "execution_count": null,
   "metadata": {},
   "outputs": [],
   "source": []
  }
 ],
 "metadata": {
  "kernelspec": {
   "display_name": "Python 3.10.4 64-bit",
   "language": "python",
   "name": "python3"
  },
  "language_info": {
   "codemirror_mode": {
    "name": "ipython",
    "version": 3
   },
   "file_extension": ".py",
   "mimetype": "text/x-python",
   "name": "python",
   "nbconvert_exporter": "python",
   "pygments_lexer": "ipython3",
   "version": "3.10.4"
  },
  "orig_nbformat": 4,
  "vscode": {
   "interpreter": {
    "hash": "0ef45c87cab4ee5f0fb5b9cc4e36f202524eb2daf8f5adbeadb7945c36161e05"
   }
  }
 },
 "nbformat": 4,
 "nbformat_minor": 2
}
