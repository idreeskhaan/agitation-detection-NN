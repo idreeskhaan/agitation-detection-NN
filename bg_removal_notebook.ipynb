{
 "cells": [
  {
   "cell_type": "code",
   "execution_count": 15,
   "metadata": {},
   "outputs": [],
   "source": [
    "import cv2\n",
    "import numpy as np\n",
    "import time\n",
    "import matplotlib.pyplot as plt"
   ]
  },
  {
   "cell_type": "code",
   "execution_count": 51,
   "metadata": {},
   "outputs": [],
   "source": [
    "#cap= cv2.VideoCapture(\"normalVideo.mp4\")\n",
    "#fgbg= cv2.createBackgroundSubtractorMOG2()\n",
    "\n",
    "#X_ag= np.load(\"datasets/agitated_dataset/X_64t_128s_OK.npy\")\n",
    "#X_fg= np.zeros(shape=(890,64,128,128))\n",
    "#X_ag= X_ag*255\n",
    "\n",
    "# sum=0\n",
    "# for i, vid in enumerate(X_ag):\n",
    "#     for j, frame in enumerate(vid):\n",
    "#         X_fg[i,j,:,:]= fgbg.apply(X_ag[i,j])\n",
    "#         print(X_fg[i,j].mean())  \n",
    "\n",
    "#X_fg= np.expand_dims(X_fg, axis=-1)"
   ]
  },
  {
   "cell_type": "code",
   "execution_count": 52,
   "metadata": {},
   "outputs": [
    {
     "data": {
      "text/plain": [
       "(890, 64, 128, 128, 1)"
      ]
     },
     "execution_count": 52,
     "metadata": {},
     "output_type": "execute_result"
    }
   ],
   "source": [
    "np.save(\"datasets/agitated_dataset/X_.npy\", X_fg)"
   ]
  },
  {
   "cell_type": "code",
   "execution_count": 50,
   "metadata": {},
   "outputs": [],
   "source": [
    "cap= cv2.VideoCapture(\"normalVideo.mp4\")\n",
    "fgbg= cv2.createBackgroundSubtractorMOG2()\n",
    "\n",
    "for frame in X_fg[-1]:\n",
    "    #frame= X_fg[0,i]\n",
    "    #fgmask= fgbg.apply(frame)\n",
    "    resized= cv2.resize(frame, (512,512))\n",
    "    cv2.imshow(\"Actual\", resized)\n",
    "    #cv2.imshow(\"Foreground\", fgmask)\n",
    "    \n",
    "    time.sleep(0.1)\n",
    "    #print(frame.shape)\n",
    "    #print((fgmask.shape))\n",
    "    \n",
    "\n",
    "    if cv2.waitKey(1) == ord('q'):\n",
    "        break\n",
    "\n",
    "\n",
    "cap.release()\n",
    "cv2.destroyAllWindows()"
   ]
  },
  {
   "cell_type": "code",
   "execution_count": 37,
   "metadata": {},
   "outputs": [],
   "source": [
    "cap.release()\n",
    "cv2.destroyAllWindows()"
   ]
  },
  {
   "cell_type": "code",
   "execution_count": null,
   "metadata": {},
   "outputs": [],
   "source": []
  }
 ],
 "metadata": {
  "kernelspec": {
   "display_name": "Python 3.7.15 ('tf')",
   "language": "python",
   "name": "python3"
  },
  "language_info": {
   "codemirror_mode": {
    "name": "ipython",
    "version": 3
   },
   "file_extension": ".py",
   "mimetype": "text/x-python",
   "name": "python",
   "nbconvert_exporter": "python",
   "pygments_lexer": "ipython3",
   "version": "3.7.15 (default, Nov  7 2022, 22:00:21) \n[GCC 11.2.0]"
  },
  "orig_nbformat": 4,
  "vscode": {
   "interpreter": {
    "hash": "4a45d716eb050bdbd22a35d3fbe39f6815a5ad9227be7df5069a6d3426fb9a87"
   }
  }
 },
 "nbformat": 4,
 "nbformat_minor": 2
}
